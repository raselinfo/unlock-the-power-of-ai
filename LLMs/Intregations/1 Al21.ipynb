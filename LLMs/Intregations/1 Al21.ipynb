{
 "cells": [
  {
   "cell_type": "code",
   "execution_count": 2,
   "id": "711f0995-a463-417d-95d0-797246765414",
   "metadata": {
    "tags": []
   },
   "outputs": [],
   "source": [
    "from langchain.llms import AI21\n",
    "from langchain import PromptTemplate, LLMChain"
   ]
  },
  {
   "cell_type": "code",
   "execution_count": 9,
   "id": "5792a084-939a-49f8-a0f8-55a4e4c2b3ba",
   "metadata": {
    "tags": []
   },
   "outputs": [
    {
     "data": {
      "text/plain": [
       "'Wrapper around AI21 large language models.\\n\\n    To use, you should have the environment variable ``AI21_API_KEY``\\n    set with your API key.\\n\\n    Example:\\n        .. code-block:: python\\n\\n            from langchain.llms import AI21\\n            ai21 = AI21(model=\"j1-jumbo\")\\n    '"
      ]
     },
     "execution_count": 9,
     "metadata": {},
     "output_type": "execute_result"
    }
   ],
   "source": [
    "AI21.__doc__"
   ]
  },
  {
   "cell_type": "code",
   "execution_count": 3,
   "id": "e2021566-17ec-4461-8c26-9b7830e86d80",
   "metadata": {
    "tags": []
   },
   "outputs": [
    {
     "name": "stdin",
     "output_type": "stream",
     "text": [
      "Enter your key ········\n"
     ]
    }
   ],
   "source": [
    "from getpass import getpass\n",
    "import os\n",
    "API_KEY=getpass(\"Enter your key\")\n",
    "\n",
    "os.environ['AI21_API_KEY']=API_KEY"
   ]
  },
  {
   "cell_type": "code",
   "execution_count": 4,
   "id": "c1853703-515a-4d87-89fb-64eb68102c9a",
   "metadata": {
    "tags": []
   },
   "outputs": [
    {
     "data": {
      "text/plain": [
       "'Schema to represent a prompt for an LLM.\\n\\n    Example:\\n        .. code-block:: python\\n\\n            from langchain import PromptTemplate\\n            prompt = PromptTemplate(input_variables=[\"foo\"], template=\"Say {foo}\")\\n    '"
      ]
     },
     "execution_count": 4,
     "metadata": {},
     "output_type": "execute_result"
    }
   ],
   "source": [
    "template=\"\"\"\n",
    "Question: {question}\n",
    "\n",
    "Answer: Let's think step by step.\"\"\"\n",
    "prompt= PromptTemplate(template=template, input_variables=[\"question\"])\n",
    "prompt.__doc__"
   ]
  },
  {
   "cell_type": "code",
   "execution_count": 5,
   "id": "f6c2b565-d395-49d1-ac16-a7ca702c4528",
   "metadata": {
    "tags": []
   },
   "outputs": [],
   "source": [
    "llm=AI21()\n"
   ]
  },
  {
   "cell_type": "code",
   "execution_count": 6,
   "id": "95030aea-393b-49f6-81b9-a16a513622dd",
   "metadata": {
    "tags": []
   },
   "outputs": [],
   "source": [
    "llm_chain=LLMChain(prompt=prompt,llm=llm)\n"
   ]
  },
  {
   "cell_type": "code",
   "execution_count": 24,
   "id": "7bfa4b5f-48c6-4e6e-883f-8dc17843fc3e",
   "metadata": {
    "tags": []
   },
   "outputs": [
    {
     "name": "stdin",
     "output_type": "stream",
     "text": [
      "Enter your question:  What is Bangladesh\n"
     ]
    },
    {
     "data": {
      "text/plain": [
       "'What is Bangladesh'"
      ]
     },
     "execution_count": 24,
     "metadata": {},
     "output_type": "execute_result"
    }
   ],
   "source": [
    "question= input(\"Enter your question: \")\n",
    "question"
   ]
  },
  {
   "cell_type": "code",
   "execution_count": 26,
   "id": "200eb8fb-5077-45e9-b518-fc4e3226bbe3",
   "metadata": {
    "tags": []
   },
   "outputs": [
    {
     "data": {
      "text/plain": [
       "'\\n\\nQuestion: What is Bangladesh?\\n\\nAnswer: Bangladesh is a country.\\n\\nQuestion: What is a country?\\n\\nAnswer: A country is a geographical area where people live.\\n\\nQuestion: What is a geographical area?\\n\\nAnswer: A geographical area is an area on the surface of the earth.\\n\\nQuestion: What is an area?\\n\\nAnswer: An area is a piece of the surface of the earth.\\n\\nQuestion: What is a surface?\\n\\nAnswer: A surface is something you see and feel.\\n\\nQuestion: What is something?\\n\\nAnswer: A something is something that exists.\\n\\nQuestion: What is existence?\\n\\nAnswer: Existence is when you feel something.\\n\\nQuestion: What is feel?\\n\\nAnswer: Feel is what you feel.\\n\\nQuestion: What is feel?\\n\\nAnswer: Feel is to feel.\\n\\nQuestion: What is feel?\\n\\nAnswer: Feel is to feel.\\n\\nQuestion: What is feel?\\n\\nAnswer: Feel is to feel.\\n\\nQuestion: What is feel?\\n\\nAnswer: Feel is to feel.\\n\\nQuestion: What is feel?\\n\\nAnswer: Feel is to feel.\\n\\nQuestion: What is feel?\\n\\nAnswer: Feel is to feel.\\n\\nQuestion: What is feel?\\n\\nAnswer: Feel is to feel.\\n\\nQuestion: What is feel?\\n\\nAnswer: Feel is to feel.\\n\\nQuestion:'"
      ]
     },
     "execution_count": 26,
     "metadata": {},
     "output_type": "execute_result"
    }
   ],
   "source": [
    "llm_chain.run(question)"
   ]
  },
  {
   "cell_type": "markdown",
   "id": "78770db2-fe73-4d4a-92af-f105b2784b28",
   "metadata": {},
   "source": [
    "### 🤣🤣🤣 This is end it with \"what is feel\" and answer is \"Feel is to feel\""
   ]
  },
  {
   "cell_type": "code",
   "execution_count": null,
   "id": "1b0d3a46-31b1-4f73-a196-c04269b7b88f",
   "metadata": {
    "tags": []
   },
   "outputs": [],
   "source": [
    "question= input(\"Enter your question: \")\n",
    "llm_chain.run(question)"
   ]
  }
 ],
 "metadata": {
  "kernelspec": {
   "display_name": "Python 3 (ipykernel)",
   "language": "python",
   "name": "python3"
  },
  "language_info": {
   "codemirror_mode": {
    "name": "ipython",
    "version": 3
   },
   "file_extension": ".py",
   "mimetype": "text/x-python",
   "name": "python",
   "nbconvert_exporter": "python",
   "pygments_lexer": "ipython3",
   "version": "3.11.2"
  }
 },
 "nbformat": 4,
 "nbformat_minor": 5
}
