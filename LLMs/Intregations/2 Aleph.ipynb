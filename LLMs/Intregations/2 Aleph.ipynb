{
 "cells": [
  {
   "cell_type": "code",
   "execution_count": 9,
   "id": "02c9ee5c-42b2-46ec-83d8-119c97b5a39f",
   "metadata": {
    "tags": []
   },
   "outputs": [
    {
     "name": "stdout",
     "output_type": "stream",
     "text": [
      "Collecting aleph_alpha_client\n",
      "  Downloading aleph_alpha_client-2.17.0-py3-none-any.whl (41 kB)\n",
      "     ---------------------------------------- 0.0/41.0 kB ? eta -:--:--\n",
      "     --------- ------------------------------ 10.2/41.0 kB ? eta -:--:--\n",
      "     ------------------ ------------------- 20.5/41.0 kB 217.9 kB/s eta 0:00:01\n",
      "     -------------------------------------  41.0/41.0 kB 245.8 kB/s eta 0:00:01\n",
      "     -------------------------------------- 41.0/41.0 kB 196.2 kB/s eta 0:00:00\n",
      "Requirement already satisfied: requests>=2.28 in c:\\python311\\lib\\site-packages (from aleph_alpha_client) (2.28.2)\n",
      "Requirement already satisfied: urllib3>=1.26 in c:\\python311\\lib\\site-packages (from aleph_alpha_client) (1.26.14)\n",
      "Requirement already satisfied: aiohttp>=3.8.3 in c:\\python311\\lib\\site-packages (from aleph_alpha_client) (3.8.4)\n",
      "Collecting aiodns>=3.0.0\n",
      "  Downloading aiodns-3.0.0-py3-none-any.whl (5.0 kB)\n",
      "Collecting aiohttp-retry>=2.8.3\n",
      "  Downloading aiohttp_retry-2.8.3-py3-none-any.whl (9.8 kB)\n",
      "Collecting tokenizers>=0.13.2\n",
      "  Downloading tokenizers-0.13.2-cp311-cp311-win_amd64.whl (3.3 MB)\n",
      "     ---------------------------------------- 0.0/3.3 MB ? eta -:--:--\n",
      "     ---------------------------------------- 0.0/3.3 MB 660.6 kB/s eta 0:00:05\n",
      "      --------------------------------------- 0.1/3.3 MB 787.7 kB/s eta 0:00:05\n",
      "     -- ------------------------------------- 0.2/3.3 MB 1.2 MB/s eta 0:00:03\n",
      "     --- ------------------------------------ 0.3/3.3 MB 1.5 MB/s eta 0:00:02\n",
      "     ----- ---------------------------------- 0.4/3.3 MB 1.7 MB/s eta 0:00:02\n",
      "     ------- -------------------------------- 0.6/3.3 MB 2.0 MB/s eta 0:00:02\n",
      "     ---------- ----------------------------- 0.8/3.3 MB 2.4 MB/s eta 0:00:02\n",
      "     --------------- ------------------------ 1.3/3.3 MB 3.2 MB/s eta 0:00:01\n",
      "     ---------------------- ----------------- 1.9/3.3 MB 4.0 MB/s eta 0:00:01\n",
      "     ------------------------------ --------- 2.5/3.3 MB 4.6 MB/s eta 0:00:01\n",
      "     ----------------------------------- ---- 2.9/3.3 MB 5.0 MB/s eta 0:00:01\n",
      "     ---------------------------------------  3.3/3.3 MB 5.2 MB/s eta 0:00:01\n",
      "     ---------------------------------------- 3.3/3.3 MB 5.0 MB/s eta 0:00:00\n",
      "Requirement already satisfied: typing-extensions>=4.5.0 in c:\\python311\\lib\\site-packages (from aleph_alpha_client) (4.5.0)\n",
      "Requirement already satisfied: Pillow>=9.2.0 in c:\\python311\\lib\\site-packages (from aleph_alpha_client) (9.4.0)\n",
      "Collecting pycares>=4.0.0\n",
      "  Downloading pycares-4.3.0-cp311-cp311-win_amd64.whl (76 kB)\n",
      "     ---------------------------------------- 0.0/76.3 kB ? eta -:--:--\n",
      "     -------------------------------- ------- 61.4/76.3 kB ? eta -:--:--\n",
      "     -------------------------------------- 76.3/76.3 kB 846.5 kB/s eta 0:00:00\n",
      "Requirement already satisfied: attrs>=17.3.0 in c:\\python311\\lib\\site-packages (from aiohttp>=3.8.3->aleph_alpha_client) (22.2.0)\n",
      "Requirement already satisfied: charset-normalizer<4.0,>=2.0 in c:\\python311\\lib\\site-packages (from aiohttp>=3.8.3->aleph_alpha_client) (3.0.1)\n",
      "Requirement already satisfied: multidict<7.0,>=4.5 in c:\\python311\\lib\\site-packages (from aiohttp>=3.8.3->aleph_alpha_client) (6.0.4)\n",
      "Requirement already satisfied: async-timeout<5.0,>=4.0.0a3 in c:\\python311\\lib\\site-packages (from aiohttp>=3.8.3->aleph_alpha_client) (4.0.2)\n",
      "Requirement already satisfied: yarl<2.0,>=1.0 in c:\\python311\\lib\\site-packages (from aiohttp>=3.8.3->aleph_alpha_client) (1.8.2)\n",
      "Requirement already satisfied: frozenlist>=1.1.1 in c:\\python311\\lib\\site-packages (from aiohttp>=3.8.3->aleph_alpha_client) (1.3.3)\n",
      "Requirement already satisfied: aiosignal>=1.1.2 in c:\\python311\\lib\\site-packages (from aiohttp>=3.8.3->aleph_alpha_client) (1.3.1)\n",
      "Requirement already satisfied: idna<4,>=2.5 in c:\\python311\\lib\\site-packages (from requests>=2.28->aleph_alpha_client) (3.4)\n",
      "Requirement already satisfied: certifi>=2017.4.17 in c:\\python311\\lib\\site-packages (from requests>=2.28->aleph_alpha_client) (2022.12.7)\n",
      "Requirement already satisfied: cffi>=1.5.0 in c:\\python311\\lib\\site-packages (from pycares>=4.0.0->aiodns>=3.0.0->aleph_alpha_client) (1.15.1)\n",
      "Requirement already satisfied: pycparser in c:\\python311\\lib\\site-packages (from cffi>=1.5.0->pycares>=4.0.0->aiodns>=3.0.0->aleph_alpha_client) (2.21)\n",
      "Installing collected packages: tokenizers, pycares, aiohttp-retry, aiodns, aleph_alpha_client\n",
      "Successfully installed aiodns-3.0.0 aiohttp-retry-2.8.3 aleph_alpha_client-2.17.0 pycares-4.3.0 tokenizers-0.13.2\n"
     ]
    }
   ],
   "source": [
    "!pip install aleph_alpha_client"
   ]
  },
  {
   "cell_type": "code",
   "execution_count": 10,
   "id": "d09cbafc-c7bc-4621-8325-ca3c1e38b0d7",
   "metadata": {
    "tags": []
   },
   "outputs": [],
   "source": [
    "from langchain.llms import AlephAlpha\n",
    "from langchain import PromptTemplate, LLMChain"
   ]
  },
  {
   "cell_type": "code",
   "execution_count": 11,
   "id": "26cf080a-325f-4f07-88bb-c8c8b8ba3381",
   "metadata": {
    "tags": []
   },
   "outputs": [
    {
     "data": {
      "text/plain": [
       "'Wrapper around Aleph Alpha large language models.\\n\\n    To use, you should have the ``aleph_alpha_client`` python package installed, and the\\n    environment variable ``ALEPH_ALPHA_API_KEY`` set with your API key, or pass\\n    it as a named parameter to the constructor.\\n\\n    Parameters are explained more in depth here:\\n    https://github.com/Aleph-Alpha/aleph-alpha-client/blob/c14b7dd2b4325c7da0d6a119f6e76385800e097b/aleph_alpha_client/completion.py#L10\\n\\n    Example:\\n        .. code-block:: python\\n\\n            from langchain.llms import AlephAlpha\\n            alpeh_alpha = AlephAlpha(aleph_alpha_api_key=\"my-api-key\")\\n    '"
      ]
     },
     "execution_count": 11,
     "metadata": {},
     "output_type": "execute_result"
    }
   ],
   "source": [
    "AlephAlpha.__doc__"
   ]
  },
  {
   "cell_type": "code",
   "execution_count": 12,
   "id": "aac2083f-9bb9-4d7f-968d-626171c2ba3e",
   "metadata": {
    "tags": []
   },
   "outputs": [
    {
     "name": "stdin",
     "output_type": "stream",
     "text": [
      "Enter your key ········\n"
     ]
    }
   ],
   "source": [
    "from getpass import getpass\n",
    "import os\n",
    "API_KEY=getpass(\"Enter your key\")\n",
    "\n",
    "os.environ['ALEPH_ALPHA_API_KEY']=API_KEY"
   ]
  },
  {
   "cell_type": "code",
   "execution_count": 52,
   "id": "bfa89ded-8d38-4e0f-bbda-4032faafe259",
   "metadata": {
    "tags": []
   },
   "outputs": [],
   "source": [
    "template = \"\"\"Q: {question}\n",
    "\n",
    "A:\"\"\"\n",
    "\n",
    "prompt = PromptTemplate(template=template, input_variables=[\"question\"])\n"
   ]
  },
  {
   "cell_type": "code",
   "execution_count": 53,
   "id": "05af118a-5ca4-4b58-84b7-7a75e84777b1",
   "metadata": {
    "tags": []
   },
   "outputs": [
    {
     "data": {
      "text/plain": [
       "AlephAlpha(cache=None, verbose=False, callback_manager=<langchain.callbacks.shared.SharedCallbackManager object at 0x000001E126E76910>, client=<aleph_alpha_client.aleph_alpha_client.Client object at 0x000001E12F961650>, model='luminous-extended', maximum_tokens=20, temperature=0.0, top_k=0, top_p=0.0, presence_penalty=0.0, frequency_penalty=0.0, repetition_penalties_include_prompt=False, use_multiplicative_presence_penalty=False, penalty_bias=None, penalty_exceptions=None, penalty_exceptions_include_stop_sequences=None, best_of=None, n=1, logit_bias=None, log_probs=None, tokens=False, disable_optimizations=False, minimum_tokens=0, echo=False, use_multiplicative_frequency_penalty=False, sequence_penalty=0.0, sequence_penalty_min_length=2, use_multiplicative_sequence_penalty=False, completion_bias_inclusion=None, completion_bias_inclusion_first_token_only=False, completion_bias_exclusion=None, completion_bias_exclusion_first_token_only=False, contextual_control_threshold=None, control_log_additive=True, repetition_penalties_include_completion=True, raw_completion=False, aleph_alpha_api_key=None, stop_sequences=['Q:'])"
      ]
     },
     "execution_count": 53,
     "metadata": {},
     "output_type": "execute_result"
    }
   ],
   "source": [
    "llm = AlephAlpha(model=\"luminous-extended\", maximum_tokens=20, stop_sequences=[\"Q:\"])\n",
    "llm"
   ]
  },
  {
   "cell_type": "code",
   "execution_count": 54,
   "id": "b3c9d79c-c182-442d-b2b3-5837309720f1",
   "metadata": {
    "tags": []
   },
   "outputs": [
    {
     "data": {
      "text/plain": [
       "LLMChain(memory=None, callback_manager=<langchain.callbacks.shared.SharedCallbackManager object at 0x000001E126E76910>, verbose=False, prompt=PromptTemplate(input_variables=['question'], output_parser=None, partial_variables={}, template='Q: {question}\\n\\nA:', template_format='f-string', validate_template=True), llm=AlephAlpha(cache=None, verbose=False, callback_manager=<langchain.callbacks.shared.SharedCallbackManager object at 0x000001E126E76910>, client=<aleph_alpha_client.aleph_alpha_client.Client object at 0x000001E12F961650>, model='luminous-extended', maximum_tokens=20, temperature=0.0, top_k=0, top_p=0.0, presence_penalty=0.0, frequency_penalty=0.0, repetition_penalties_include_prompt=False, use_multiplicative_presence_penalty=False, penalty_bias=None, penalty_exceptions=None, penalty_exceptions_include_stop_sequences=None, best_of=None, n=1, logit_bias=None, log_probs=None, tokens=False, disable_optimizations=False, minimum_tokens=0, echo=False, use_multiplicative_frequency_penalty=False, sequence_penalty=0.0, sequence_penalty_min_length=2, use_multiplicative_sequence_penalty=False, completion_bias_inclusion=None, completion_bias_inclusion_first_token_only=False, completion_bias_exclusion=None, completion_bias_exclusion_first_token_only=False, contextual_control_threshold=None, control_log_additive=True, repetition_penalties_include_completion=True, raw_completion=False, aleph_alpha_api_key=None, stop_sequences=['Q:']), output_key='text')"
      ]
     },
     "execution_count": 54,
     "metadata": {},
     "output_type": "execute_result"
    }
   ],
   "source": [
    "llm_chain=LLMChain(prompt=prompt,llm=llm)\n",
    "llm_chain"
   ]
  },
  {
   "cell_type": "code",
   "execution_count": 55,
   "id": "7ed607d6-9a9c-4732-8688-a794f2670a2d",
   "metadata": {
    "tags": []
   },
   "outputs": [
    {
     "name": "stdin",
     "output_type": "stream",
     "text": [
      "Enter your Question What is Bangladesh\n"
     ]
    }
   ],
   "source": [
    "question=input(\"Enter your Question\")"
   ]
  },
  {
   "cell_type": "code",
   "execution_count": 58,
   "id": "3ce0544c-94d7-4740-bf69-e2958f167896",
   "metadata": {
    "tags": []
   },
   "outputs": [
    {
     "data": {
      "text/plain": [
       "' Bangladesh is a country in South Asia. It is bordered by India on all sides except for a'"
      ]
     },
     "execution_count": 58,
     "metadata": {},
     "output_type": "execute_result"
    }
   ],
   "source": [
    "llm_chain.run(question)"
   ]
  },
  {
   "cell_type": "code",
   "execution_count": 61,
   "id": "109dd880-895a-4604-a22f-12fc8bbc179a",
   "metadata": {
    "tags": []
   },
   "outputs": [
    {
     "name": "stdin",
     "output_type": "stream",
     "text": [
      "Enter your Question বাংলাদেশ কি?\n"
     ]
    },
    {
     "data": {
      "text/plain": [
       "' বাংলাদেশ �'"
      ]
     },
     "execution_count": 61,
     "metadata": {},
     "output_type": "execute_result"
    }
   ],
   "source": [
    "question=input(\"Enter your Question\")\n",
    "llm_chain.run(question)"
   ]
  }
 ],
 "metadata": {
  "kernelspec": {
   "display_name": "Python 3 (ipykernel)",
   "language": "python",
   "name": "python3"
  },
  "language_info": {
   "codemirror_mode": {
    "name": "ipython",
    "version": 3
   },
   "file_extension": ".py",
   "mimetype": "text/x-python",
   "name": "python",
   "nbconvert_exporter": "python",
   "pygments_lexer": "ipython3",
   "version": "3.11.2"
  }
 },
 "nbformat": 4,
 "nbformat_minor": 5
}
