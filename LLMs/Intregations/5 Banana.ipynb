{
 "cells": [
  {
   "cell_type": "markdown",
   "id": "f11db656-348c-406f-9652-a7a70801fa44",
   "metadata": {},
   "source": [
    "## Paid"
   ]
  },
  {
   "cell_type": "code",
   "execution_count": null,
   "id": "2894b951-9db8-4d00-90c5-f22f7a7c369c",
   "metadata": {},
   "outputs": [],
   "source": [
    "import os\n",
    "from langchain.llms import Banana\n",
    "from langchain import PromptTemplate, LLMChain\n",
    "os.environ[\"BANANA_API_KEY\"] = \"YOUR_API_KEY\""
   ]
  },
  {
   "cell_type": "code",
   "execution_count": null,
   "id": "c67cdf7b-1ab5-4a30-9b24-d641d12feb48",
   "metadata": {},
   "outputs": [],
   "source": [
    "template = \"\"\"Question: {question}\n",
    "\n",
    "Answer: Let's think step by step.\"\"\"\n",
    "\n",
    "prompt = PromptTemplate(template=template, input_variables=[\"question\"])"
   ]
  },
  {
   "cell_type": "code",
   "execution_count": null,
   "id": "1262f347-c438-4052-bdfe-a0d0fcb8f6c1",
   "metadata": {},
   "outputs": [],
   "source": [
    "llm = Banana(model_key=\"YOUR_MODEL_KEY\")"
   ]
  },
  {
   "cell_type": "code",
   "execution_count": null,
   "id": "7133f0d0-14bd-4f44-aed9-b54076c18dee",
   "metadata": {},
   "outputs": [],
   "source": [
    "llm_chain = LLMChain(prompt=prompt, llm=llm)"
   ]
  },
  {
   "cell_type": "code",
   "execution_count": null,
   "id": "af9edb8c-302a-4866-a92e-989cf675a1d5",
   "metadata": {},
   "outputs": [],
   "source": [
    "question = \"What NFL team won the Super Bowl in the year Justin Beiber was born?\"\n",
    "\n",
    "llm_chain.run(question)"
   ]
  }
 ],
 "metadata": {
  "kernelspec": {
   "display_name": "Python 3 (ipykernel)",
   "language": "python",
   "name": "python3"
  },
  "language_info": {
   "codemirror_mode": {
    "name": "ipython",
    "version": 3
   },
   "file_extension": ".py",
   "mimetype": "text/x-python",
   "name": "python",
   "nbconvert_exporter": "python",
   "pygments_lexer": "ipython3",
   "version": "3.11.2"
  }
 },
 "nbformat": 4,
 "nbformat_minor": 5
}
