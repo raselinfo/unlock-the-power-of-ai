{
 "cells": [
  {
   "cell_type": "code",
   "execution_count": 6,
   "id": "1cd9eba4-0584-423d-ab35-a43049550464",
   "metadata": {
    "tags": []
   },
   "outputs": [
    {
     "name": "stdout",
     "output_type": "stream",
     "text": [
      "Collecting huggingface_hub\n",
      "  Downloading huggingface_hub-0.13.3-py3-none-any.whl (199 kB)\n",
      "     ---------------------------------------- 0.0/199.8 kB ? eta -:--:--\n",
      "     ---------------------------------------- 0.0/199.8 kB ? eta -:--:--\n",
      "     ------ --------------------------------- 30.7/199.8 kB ? eta -:--:--\n",
      "     ------ --------------------------------- 30.7/199.8 kB ? eta -:--:--\n",
      "     ----------- ------------------------- 61.4/199.8 kB 469.7 kB/s eta 0:00:01\n",
      "     ----------- ------------------------- 61.4/199.8 kB 469.7 kB/s eta 0:00:01\n",
      "     ----------- ------------------------- 61.4/199.8 kB 469.7 kB/s eta 0:00:01\n",
      "     ----------- ------------------------- 61.4/199.8 kB 469.7 kB/s eta 0:00:01\n",
      "     -----------------------------------  194.6/199.8 kB 620.6 kB/s eta 0:00:01\n",
      "     ------------------------------------ 199.8/199.8 kB 607.7 kB/s eta 0:00:00\n",
      "Collecting filelock\n",
      "  Downloading filelock-3.10.7-py3-none-any.whl (10 kB)\n",
      "Requirement already satisfied: requests in c:\\python311\\lib\\site-packages (from huggingface_hub) (2.28.2)\n",
      "Requirement already satisfied: tqdm>=4.42.1 in c:\\python311\\lib\\site-packages (from huggingface_hub) (4.64.1)\n",
      "Requirement already satisfied: pyyaml>=5.1 in c:\\python311\\lib\\site-packages (from huggingface_hub) (6.0)\n",
      "Requirement already satisfied: typing-extensions>=3.7.4.3 in c:\\python311\\lib\\site-packages (from huggingface_hub) (4.5.0)\n",
      "Requirement already satisfied: packaging>=20.9 in c:\\python311\\lib\\site-packages (from huggingface_hub) (23.0)\n",
      "Requirement already satisfied: colorama in c:\\python311\\lib\\site-packages (from tqdm>=4.42.1->huggingface_hub) (0.4.6)\n",
      "Requirement already satisfied: charset-normalizer<4,>=2 in c:\\python311\\lib\\site-packages (from requests->huggingface_hub) (3.0.1)\n",
      "Requirement already satisfied: idna<4,>=2.5 in c:\\python311\\lib\\site-packages (from requests->huggingface_hub) (3.4)\n",
      "Requirement already satisfied: urllib3<1.27,>=1.21.1 in c:\\python311\\lib\\site-packages (from requests->huggingface_hub) (1.26.14)\n",
      "Requirement already satisfied: certifi>=2017.4.17 in c:\\python311\\lib\\site-packages (from requests->huggingface_hub) (2022.12.7)\n",
      "Installing collected packages: filelock, huggingface_hub\n",
      "Successfully installed filelock-3.10.7 huggingface_hub-0.13.3\n"
     ]
    }
   ],
   "source": [
    "!pip install huggingface_hub"
   ]
  },
  {
   "cell_type": "code",
   "execution_count": 4,
   "id": "9248d764-f807-4513-990a-51674471b303",
   "metadata": {
    "tags": []
   },
   "outputs": [
    {
     "name": "stdin",
     "output_type": "stream",
     "text": [
      "Enter your key ········\n"
     ]
    }
   ],
   "source": [
    "from getpass import getpass\n",
    "import os\n",
    "API_KEY=getpass(\"Enter your key\")\n",
    "\n",
    "os.environ['HUGGINGFACEHUB_API_TOKEN']=API_KEY"
   ]
  },
  {
   "cell_type": "code",
   "execution_count": null,
   "id": "bc4ffa89-d2c6-4825-90ec-0096287acdaf",
   "metadata": {
    "tags": []
   },
   "outputs": [],
   "source": [
    "from langchain import PromptTemplate, HuggingFaceHub, LLMChain\n",
    "\n",
    "template = \"\"\"Question: {question}\n",
    "\n",
    "Answer: Let's think step by step.\"\"\"\n",
    "prompt = PromptTemplate(template=template, input_variables=[\"question\"])\n",
    "llm_chain = LLMChain(prompt=prompt, llm=HuggingFaceHub(repo_id=\"google/flan-t5-xl\", model_kwargs={\"temperature\":0, \"max_length\":64}))\n",
    "import time\n",
    "dir(time)\n",
    "question = input(\"Enter your question.\")\n",
    "\n",
    "s=time.perf_counter()\n",
    "print(llm_chain.run(question))\n",
    "end=time.perf_counter()-s\n",
    "print(f\"time = {end:0.2f} second\")"
   ]
  },
  {
   "cell_type": "code",
   "execution_count": null,
   "id": "885551fd-d97d-40dd-8d7f-b8859856120a",
   "metadata": {},
   "outputs": [],
   "source": []
  }
 ],
 "metadata": {
  "kernelspec": {
   "display_name": "Python 3 (ipykernel)",
   "language": "python",
   "name": "python3"
  },
  "language_info": {
   "codemirror_mode": {
    "name": "ipython",
    "version": 3
   },
   "file_extension": ".py",
   "mimetype": "text/x-python",
   "name": "python",
   "nbconvert_exporter": "python",
   "pygments_lexer": "ipython3",
   "version": "3.11.2"
  }
 },
 "nbformat": 4,
 "nbformat_minor": 5
}
