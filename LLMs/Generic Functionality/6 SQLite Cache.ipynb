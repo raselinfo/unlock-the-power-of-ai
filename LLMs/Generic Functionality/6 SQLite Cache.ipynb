{
 "cells": [
  {
   "cell_type": "markdown",
   "id": "e79d2379-f888-46bf-bfcf-35669f6f3f13",
   "metadata": {},
   "source": [
    "# SQLite Cache"
   ]
  },
  {
   "cell_type": "markdown",
   "id": "f0969f8d-2476-4dfb-83a0-97421916de70",
   "metadata": {
    "tags": []
   },
   "source": [
    "## if you have langchain db 'use this commend for delete. \n",
    "note : if you are in linux please use \"!rm\" to delete the db"
   ]
  },
  {
   "cell_type": "code",
   "execution_count": 5,
   "id": "a5480752-ec20-4dcc-9e6f-711bd787f20b",
   "metadata": {
    "tags": []
   },
   "outputs": [
    {
     "name": "stderr",
     "output_type": "stream",
     "text": [
      "Could Not Find C:\\Users\\Rasel\\Desktop\\practice\\python\\Rasel Notebook\\LLMs\\.langchain.db\n"
     ]
    }
   ],
   "source": [
    "!del .langchain.db"
   ]
  },
  {
   "cell_type": "code",
   "execution_count": 9,
   "id": "c09d2a28-f5cf-4300-9b87-ff657d225beb",
   "metadata": {},
   "outputs": [
    {
     "name": "stdout",
     "output_type": "stream",
     "text": [
      "Requirement already satisfied: langchain in c:\\python311\\lib\\site-packages (0.0.123)\n",
      "Requirement already satisfied: PyYAML>=5.4.1 in c:\\python311\\lib\\site-packages (from langchain) (6.0)\n",
      "Requirement already satisfied: SQLAlchemy<2,>=1 in c:\\python311\\lib\\site-packages (from langchain) (1.4.47)\n",
      "Requirement already satisfied: aiohttp<4.0.0,>=3.8.3 in c:\\python311\\lib\\site-packages (from langchain) (3.8.4)\n",
      "Requirement already satisfied: dataclasses-json<0.6.0,>=0.5.7 in c:\\python311\\lib\\site-packages (from langchain) (0.5.7)\n",
      "Requirement already satisfied: numpy<2,>=1 in c:\\python311\\lib\\site-packages (from langchain) (1.24.2)\n",
      "Requirement already satisfied: pydantic<2,>=1 in c:\\python311\\lib\\site-packages (from langchain) (1.10.7)\n",
      "Requirement already satisfied: requests<3,>=2 in c:\\python311\\lib\\site-packages (from langchain) (2.28.2)\n",
      "Requirement already satisfied: tenacity<9.0.0,>=8.1.0 in c:\\python311\\lib\\site-packages (from langchain) (8.2.2)\n",
      "Requirement already satisfied: attrs>=17.3.0 in c:\\python311\\lib\\site-packages (from aiohttp<4.0.0,>=3.8.3->langchain) (22.2.0)\n",
      "Requirement already satisfied: charset-normalizer<4.0,>=2.0 in c:\\python311\\lib\\site-packages (from aiohttp<4.0.0,>=3.8.3->langchain) (3.0.1)\n",
      "Requirement already satisfied: multidict<7.0,>=4.5 in c:\\python311\\lib\\site-packages (from aiohttp<4.0.0,>=3.8.3->langchain) (6.0.4)\n",
      "Requirement already satisfied: async-timeout<5.0,>=4.0.0a3 in c:\\python311\\lib\\site-packages (from aiohttp<4.0.0,>=3.8.3->langchain) (4.0.2)\n",
      "Requirement already satisfied: yarl<2.0,>=1.0 in c:\\python311\\lib\\site-packages (from aiohttp<4.0.0,>=3.8.3->langchain) (1.8.2)\n",
      "Requirement already satisfied: frozenlist>=1.1.1 in c:\\python311\\lib\\site-packages (from aiohttp<4.0.0,>=3.8.3->langchain) (1.3.3)\n",
      "Requirement already satisfied: aiosignal>=1.1.2 in c:\\python311\\lib\\site-packages (from aiohttp<4.0.0,>=3.8.3->langchain) (1.3.1)\n",
      "Requirement already satisfied: marshmallow<4.0.0,>=3.3.0 in c:\\python311\\lib\\site-packages (from dataclasses-json<0.6.0,>=0.5.7->langchain) (3.19.0)\n",
      "Requirement already satisfied: marshmallow-enum<2.0.0,>=1.5.1 in c:\\python311\\lib\\site-packages (from dataclasses-json<0.6.0,>=0.5.7->langchain) (1.5.1)\n",
      "Requirement already satisfied: typing-inspect>=0.4.0 in c:\\python311\\lib\\site-packages (from dataclasses-json<0.6.0,>=0.5.7->langchain) (0.8.0)\n",
      "Requirement already satisfied: typing-extensions>=4.2.0 in c:\\python311\\lib\\site-packages (from pydantic<2,>=1->langchain) (4.5.0)\n",
      "Requirement already satisfied: idna<4,>=2.5 in c:\\python311\\lib\\site-packages (from requests<3,>=2->langchain) (3.4)\n",
      "Requirement already satisfied: urllib3<1.27,>=1.21.1 in c:\\python311\\lib\\site-packages (from requests<3,>=2->langchain) (1.26.14)\n",
      "Requirement already satisfied: certifi>=2017.4.17 in c:\\python311\\lib\\site-packages (from requests<3,>=2->langchain) (2022.12.7)\n",
      "Requirement already satisfied: greenlet!=0.4.17 in c:\\python311\\lib\\site-packages (from SQLAlchemy<2,>=1->langchain) (2.0.2)\n",
      "Requirement already satisfied: packaging>=17.0 in c:\\python311\\lib\\site-packages (from marshmallow<4.0.0,>=3.3.0->dataclasses-json<0.6.0,>=0.5.7->langchain) (23.0)\n",
      "Requirement already satisfied: mypy-extensions>=0.3.0 in c:\\python311\\lib\\site-packages (from typing-inspect>=0.4.0->dataclasses-json<0.6.0,>=0.5.7->langchain) (1.0.0)\n"
     ]
    }
   ],
   "source": [
    "!pip install langchain\n",
    "from langchain.cache import SQLiteCache\n",
    "import langchain\n",
    "from  langchain.llms import OpenAI "
   ]
  },
  {
   "cell_type": "code",
   "execution_count": 10,
   "id": "106f6e5c-2f3c-4b48-9daf-d4524a57d17f",
   "metadata": {
    "tags": []
   },
   "outputs": [],
   "source": [
    "langchain.llm_cache=SQLiteCache(database_path=\".langchain.db\")"
   ]
  },
  {
   "cell_type": "code",
   "execution_count": 12,
   "id": "6ec4be3d-bf31-46c1-b2e2-4b79dd7e5c10",
   "metadata": {
    "tags": []
   },
   "outputs": [
    {
     "name": "stdin",
     "output_type": "stream",
     "text": [
      "Enter your key ········\n"
     ]
    }
   ],
   "source": [
    "from getpass import getpass\n",
    "open_ai_key=getpass(\"Enter your key\")"
   ]
  },
  {
   "cell_type": "code",
   "execution_count": 13,
   "id": "c4f825f3-0a1e-492d-933f-9ddb9281ed57",
   "metadata": {
    "tags": []
   },
   "outputs": [],
   "source": [
    "import os\n",
    "os.environ[\"OPENAI_API_KEY\"]=open_ai_key"
   ]
  },
  {
   "cell_type": "code",
   "execution_count": 15,
   "id": "fd634418-b30b-4f6a-a71e-f20236825ad9",
   "metadata": {
    "tags": []
   },
   "outputs": [],
   "source": [
    "llm=OpenAI(model_name=\"text-davinci-003\",n=2,best_of=2)"
   ]
  },
  {
   "cell_type": "markdown",
   "id": "29ee4f65-cf0e-4f83-8adb-23cba26ced1d",
   "metadata": {},
   "source": [
    "### Fist Time"
   ]
  },
  {
   "cell_type": "code",
   "execution_count": 16,
   "id": "870361f8-fbec-4edb-a477-1fd38c4ad771",
   "metadata": {
    "tags": []
   },
   "outputs": [
    {
     "name": "stdout",
     "output_type": "stream",
     "text": [
      "া যাক\n",
      "\n",
      "আমি একটি মেয়ের জন্য জরুরী তথ্য আনতে চাই। তাহলে তারা কি বলে?\n",
      "\n",
      "\"Google আমার জন্য খুঁজে দিতে পারে!\"\n",
      "\n",
      "\n",
      "Q: What did the fish say when it swam into the wall? \n",
      "A: Dam!\n",
      "7.40 second\n"
     ]
    }
   ],
   "source": [
    "import time\n",
    "s=time.perf_counter()\n",
    "print(llm(\"একটি জোকস বল\"))\n",
    "print(llm(\"Tell me a joke\"))\n",
    "end=time.perf_counter() - s\n",
    "print(f\"{end:0.2f} second\")"
   ]
  },
  {
   "cell_type": "markdown",
   "id": "dd6c3dc8-a512-48ea-ab2e-d1a7e020e928",
   "metadata": {},
   "source": [
    "### Second Time"
   ]
  },
  {
   "cell_type": "code",
   "execution_count": 17,
   "id": "5dda47e5-60f8-4fca-aaf1-1cd1634fe76b",
   "metadata": {
    "tags": []
   },
   "outputs": [
    {
     "name": "stdout",
     "output_type": "stream",
     "text": [
      "া যাক\n",
      "\n",
      "আমি একটি মেয়ের জন্য জরুরী তথ্য আনতে চাই। তাহলে তারা কি বলে?\n",
      "\n",
      "\"Google আমার জন্য খুঁজে দিতে পারে!\"\n",
      "\n",
      "\n",
      "Q: What did the fish say when it swam into the wall? \n",
      "A: Dam!\n",
      "0.01 second\n"
     ]
    }
   ],
   "source": [
    "import time\n",
    "s=time.perf_counter()\n",
    "print(llm(\"একটি জোকস বল\"))\n",
    "print(llm(\"Tell me a joke\"))\n",
    "end=time.perf_counter() - s\n",
    "print(f\"{end:0.2f} second\")"
   ]
  },
  {
   "cell_type": "code",
   "execution_count": null,
   "id": "1c7ab71e-49a7-42d3-a76d-0be273dc9ce7",
   "metadata": {},
   "outputs": [],
   "source": []
  }
 ],
 "metadata": {
  "kernelspec": {
   "display_name": "Python 3 (ipykernel)",
   "language": "python",
   "name": "python3"
  },
  "language_info": {
   "codemirror_mode": {
    "name": "ipython",
    "version": 3
   },
   "file_extension": ".py",
   "mimetype": "text/x-python",
   "name": "python",
   "nbconvert_exporter": "python",
   "pygments_lexer": "ipython3",
   "version": "3.11.2"
  }
 },
 "nbformat": 4,
 "nbformat_minor": 5
}
