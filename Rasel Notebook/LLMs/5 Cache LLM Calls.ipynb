{
 "cells": [
  {
   "cell_type": "markdown",
   "id": "65c97a3d-124c-4073-a403-4e63a585764e",
   "metadata": {},
   "source": [
    "# Cache LLM Calls"
   ]
  },
  {
   "cell_type": "code",
   "execution_count": 3,
   "id": "54bbeccc-6a57-47ee-aca1-f2fe808b29ff",
   "metadata": {
    "tags": []
   },
   "outputs": [
    {
     "name": "stdout",
     "output_type": "stream",
     "text": [
      "Requirement already satisfied: langchain in c:\\python311\\lib\\site-packages (0.0.123)\n",
      "Requirement already satisfied: PyYAML>=5.4.1 in c:\\python311\\lib\\site-packages (from langchain) (6.0)\n",
      "Requirement already satisfied: SQLAlchemy<2,>=1 in c:\\python311\\lib\\site-packages (from langchain) (1.4.47)\n",
      "Requirement already satisfied: aiohttp<4.0.0,>=3.8.3 in c:\\python311\\lib\\site-packages (from langchain) (3.8.4)\n",
      "Requirement already satisfied: dataclasses-json<0.6.0,>=0.5.7 in c:\\python311\\lib\\site-packages (from langchain) (0.5.7)\n",
      "Requirement already satisfied: numpy<2,>=1 in c:\\python311\\lib\\site-packages (from langchain) (1.24.2)\n",
      "Requirement already satisfied: pydantic<2,>=1 in c:\\python311\\lib\\site-packages (from langchain) (1.10.7)\n",
      "Requirement already satisfied: requests<3,>=2 in c:\\python311\\lib\\site-packages (from langchain) (2.28.2)\n",
      "Requirement already satisfied: tenacity<9.0.0,>=8.1.0 in c:\\python311\\lib\\site-packages (from langchain) (8.2.2)\n",
      "Requirement already satisfied: attrs>=17.3.0 in c:\\python311\\lib\\site-packages (from aiohttp<4.0.0,>=3.8.3->langchain) (22.2.0)\n",
      "Requirement already satisfied: charset-normalizer<4.0,>=2.0 in c:\\python311\\lib\\site-packages (from aiohttp<4.0.0,>=3.8.3->langchain) (3.0.1)\n",
      "Requirement already satisfied: multidict<7.0,>=4.5 in c:\\python311\\lib\\site-packages (from aiohttp<4.0.0,>=3.8.3->langchain) (6.0.4)\n",
      "Requirement already satisfied: async-timeout<5.0,>=4.0.0a3 in c:\\python311\\lib\\site-packages (from aiohttp<4.0.0,>=3.8.3->langchain) (4.0.2)\n",
      "Requirement already satisfied: yarl<2.0,>=1.0 in c:\\python311\\lib\\site-packages (from aiohttp<4.0.0,>=3.8.3->langchain) (1.8.2)\n",
      "Requirement already satisfied: frozenlist>=1.1.1 in c:\\python311\\lib\\site-packages (from aiohttp<4.0.0,>=3.8.3->langchain) (1.3.3)\n",
      "Requirement already satisfied: aiosignal>=1.1.2 in c:\\python311\\lib\\site-packages (from aiohttp<4.0.0,>=3.8.3->langchain) (1.3.1)\n",
      "Requirement already satisfied: marshmallow<4.0.0,>=3.3.0 in c:\\python311\\lib\\site-packages (from dataclasses-json<0.6.0,>=0.5.7->langchain) (3.19.0)\n",
      "Requirement already satisfied: marshmallow-enum<2.0.0,>=1.5.1 in c:\\python311\\lib\\site-packages (from dataclasses-json<0.6.0,>=0.5.7->langchain) (1.5.1)\n",
      "Requirement already satisfied: typing-inspect>=0.4.0 in c:\\python311\\lib\\site-packages (from dataclasses-json<0.6.0,>=0.5.7->langchain) (0.8.0)\n",
      "Requirement already satisfied: typing-extensions>=4.2.0 in c:\\python311\\lib\\site-packages (from pydantic<2,>=1->langchain) (4.5.0)\n",
      "Requirement already satisfied: idna<4,>=2.5 in c:\\python311\\lib\\site-packages (from requests<3,>=2->langchain) (3.4)\n",
      "Requirement already satisfied: urllib3<1.27,>=1.21.1 in c:\\python311\\lib\\site-packages (from requests<3,>=2->langchain) (1.26.14)\n",
      "Requirement already satisfied: certifi>=2017.4.17 in c:\\python311\\lib\\site-packages (from requests<3,>=2->langchain) (2022.12.7)\n",
      "Requirement already satisfied: greenlet!=0.4.17 in c:\\python311\\lib\\site-packages (from SQLAlchemy<2,>=1->langchain) (2.0.2)\n",
      "Requirement already satisfied: packaging>=17.0 in c:\\python311\\lib\\site-packages (from marshmallow<4.0.0,>=3.3.0->dataclasses-json<0.6.0,>=0.5.7->langchain) (23.0)\n",
      "Requirement already satisfied: mypy-extensions>=0.3.0 in c:\\python311\\lib\\site-packages (from typing-inspect>=0.4.0->dataclasses-json<0.6.0,>=0.5.7->langchain) (1.0.0)\n"
     ]
    }
   ],
   "source": [
    "!pip install langchain\n",
    "from langchain.llms import OpenAI\n",
    "import langchain\n"
   ]
  },
  {
   "cell_type": "code",
   "execution_count": 4,
   "id": "12325a8f-c60f-4eb6-943d-6b8550eacff3",
   "metadata": {
    "tags": []
   },
   "outputs": [],
   "source": [
    "from langchain.cache import InMemoryCache\n",
    "langchain.llm_cache= InMemoryCache()"
   ]
  },
  {
   "cell_type": "markdown",
   "id": "883221da-8834-48d7-98a4-90b454b697f6",
   "metadata": {},
   "source": [
    "### Get The Opena Ai key"
   ]
  },
  {
   "cell_type": "code",
   "execution_count": 8,
   "id": "d33ec38b-6d2a-4ed6-8c13-dc90e3bbbd23",
   "metadata": {
    "tags": []
   },
   "outputs": [
    {
     "name": "stdin",
     "output_type": "stream",
     "text": [
      "Enter Your Key ········\n"
     ]
    }
   ],
   "source": [
    "from getpass import getpass\n",
    "open_ai_key=getpass(\"Enter Your Key\")"
   ]
  },
  {
   "cell_type": "markdown",
   "id": "b9289532-ba9a-4c2d-bd89-0535eb828765",
   "metadata": {},
   "source": [
    "### Use the oepan Ai key"
   ]
  },
  {
   "cell_type": "code",
   "execution_count": 9,
   "id": "224be52b-1215-40a6-90e9-a928235a9e57",
   "metadata": {
    "tags": []
   },
   "outputs": [],
   "source": [
    "import os\n",
    "os.environ[\"OPENAI_API_KEY\"]=open_ai_key"
   ]
  },
  {
   "cell_type": "markdown",
   "id": "27b5dfa4-71a0-4016-9e2b-044d925a2768",
   "metadata": {},
   "source": [
    "### Lets use a slower model, to make the caching obvious. in this case i use \"text-devenci-002\" model that are OpenAi Model"
   ]
  },
  {
   "cell_type": "code",
   "execution_count": 36,
   "id": "2b5a38e3-7702-4d38-b10c-c18b91df143e",
   "metadata": {
    "tags": []
   },
   "outputs": [
    {
     "data": {
      "text/plain": [
       "OpenAI(cache=None, verbose=False, callback_manager=<langchain.callbacks.shared.SharedCallbackManager object at 0x0000024BC4D32DD0>, client=<class 'openai.api_resources.completion.Completion'>, model_name='text-davinci-002', temperature=0.7, max_tokens=1000, top_p=1.0, frequency_penalty=0, presence_penalty=0, n=2, best_of=2, model_kwargs={}, openai_api_key=None, batch_size=20, request_timeout=None, logit_bias={}, max_retries=6, streaming=False)"
      ]
     },
     "execution_count": 36,
     "metadata": {},
     "output_type": "execute_result"
    }
   ],
   "source": [
    "llm= OpenAI(\n",
    "    model_name=\"text-davinci-002\",\n",
    "    n=2,\n",
    "    best_of=2,\n",
    "    max_tokens=1000,\n",
    "    top_p=1\n",
    ")\n",
    "llm"
   ]
  },
  {
   "cell_type": "markdown",
   "id": "3c3a40e9-f3c6-4d6c-a138-c9d52f54f3cb",
   "metadata": {},
   "source": [
    "### Now get the response. and see how much time it's take for give the response for the fist time"
   ]
  },
  {
   "cell_type": "code",
   "execution_count": 37,
   "id": "4145feec-ad87-4f8f-987d-bb71529de0ec",
   "metadata": {
    "tags": []
   },
   "outputs": [
    {
     "name": "stdout",
     "output_type": "stream",
     "text": [
      "ে হলে কি সমস্যা হবে?\n",
      "\n",
      "\n",
      "\n",
      "The ten-dollar bill is a United States bill worth ten United States dollars. The front of the bill features the portrait of Alexander Hamilton, who served as the first U.S. Secretary of the Treasury. The back of the bill features the U.S. Treasury Building. All $10 bills issued today are Federal Reserve Notes.\n",
      "\n",
      "\n",
      "Why did the chicken cross the road?\n",
      "\n",
      "To get to the other side.\n",
      "0.00 second\n"
     ]
    }
   ],
   "source": [
    "import time\n",
    "s=time.perf_counter()\n",
    "print(llm(\"একটি জোকস বল\"))\n",
    "print(llm(\"Tell me a joke\"))\n",
    "end=time.perf_counter() - s\n",
    "print(f\"{end:0.2f} second\")"
   ]
  },
  {
   "cell_type": "markdown",
   "id": "e7fd0baf-c5b0-4050-970d-0e7033f1ed3e",
   "metadata": {},
   "source": [
    "### For the second time see how much time it's take for give the response"
   ]
  },
  {
   "cell_type": "code",
   "execution_count": 42,
   "id": "a8ac48f6-1785-4353-b9a1-1fb561d4a689",
   "metadata": {
    "tags": []
   },
   "outputs": [
    {
     "name": "stdout",
     "output_type": "stream",
     "text": [
      "ে হলে কি সমস্যা হবে?\n",
      "\n",
      "\n",
      "\n",
      "The ten-dollar bill is a United States bill worth ten United States dollars. The front of the bill features the portrait of Alexander Hamilton, who served as the first U.S. Secretary of the Treasury. The back of the bill features the U.S. Treasury Building. All $10 bills issued today are Federal Reserve Notes.\n",
      "\n",
      "\n",
      "Why did the chicken cross the road?\n",
      "\n",
      "To get to the other side.\n",
      "0.00 second\n"
     ]
    }
   ],
   "source": [
    "import time\n",
    "s=time.perf_counter()\n",
    "print(llm(\"একটি জোকস বল\"))\n",
    "print(llm(\"Tell me a joke\"))\n",
    "end=time.perf_counter()-s\n",
    "print(f\"{end:0.2f} second\")"
   ]
  },
  {
   "cell_type": "code",
   "execution_count": null,
   "id": "296379c9-b18b-4782-82a2-5cba1659d5d3",
   "metadata": {},
   "outputs": [],
   "source": []
  }
 ],
 "metadata": {
  "kernelspec": {
   "display_name": "Python 3 (ipykernel)",
   "language": "python",
   "name": "python3"
  },
  "language_info": {
   "codemirror_mode": {
    "name": "ipython",
    "version": 3
   },
   "file_extension": ".py",
   "mimetype": "text/x-python",
   "name": "python",
   "nbconvert_exporter": "python",
   "pygments_lexer": "ipython3",
   "version": "3.11.2"
  }
 },
 "nbformat": 4,
 "nbformat_minor": 5
}
