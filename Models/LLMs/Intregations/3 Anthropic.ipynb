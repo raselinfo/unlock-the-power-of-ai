{
 "cells": [
  {
   "cell_type": "markdown",
   "id": "a7854f24-0610-4bcb-bdb5-078aee2defa2",
   "metadata": {},
   "source": [
    "### I did not get the Anthropic API Key , i am in wait-list,\n",
    "https://www.anthropic.com/product"
   ]
  },
  {
   "cell_type": "code",
   "execution_count": 1,
   "id": "4138f102-97a2-42ca-845c-44655cb1c061",
   "metadata": {
    "tags": []
   },
   "outputs": [],
   "source": [
    "from langchain.llms import Anthropic\n",
    "from langchain import PromptTemplate, LLMChain"
   ]
  },
  {
   "cell_type": "code",
   "execution_count": 2,
   "id": "1faf465e-e7e9-4450-a7d6-65819904baee",
   "metadata": {
    "tags": []
   },
   "outputs": [],
   "source": [
    "template= \"\"\"\n",
    "Question: {question}\n",
    "Answer: Let's think step by step.\n",
    "\"\"\"\n",
    "\n",
    "prompt=PromptTemplate(template=template,input_variables=['question'])"
   ]
  },
  {
   "cell_type": "code",
   "execution_count": null,
   "id": "da5c9a6c-afe6-48bd-9fdb-393a3b01797d",
   "metadata": {},
   "outputs": [],
   "source": [
    "from getpass import getpass\n",
    "import os\n",
    "API_KEY=getpass(\"Enter your key\")\n",
    "\n",
    "os.environ['ANTHROPIC_API_KEY']=API_KEY"
   ]
  },
  {
   "cell_type": "code",
   "execution_count": 4,
   "id": "fda8fb30-c0c4-417f-a356-062da20f01c8",
   "metadata": {
    "tags": []
   },
   "outputs": [
    {
     "ename": "ValidationError",
     "evalue": "1 validation error for Anthropic\n__root__\n  Did not find anthropic_api_key, please add an environment variable `ANTHROPIC_API_KEY` which contains it, or pass  `anthropic_api_key` as a named parameter. (type=value_error)",
     "output_type": "error",
     "traceback": [
      "\u001b[1;31m----------------------------------------------------\u001b[0m",
      "\u001b[1;31mValidationError\u001b[0m    Traceback (most recent call last)",
      "Cell \u001b[1;32mIn[4], line 1\u001b[0m\n\u001b[1;32m----> 1\u001b[0m llm\u001b[38;5;241m=\u001b[39m\u001b[43mAnthropic\u001b[49m\u001b[43m(\u001b[49m\u001b[43m)\u001b[49m\n\u001b[0;32m      2\u001b[0m llm\n",
      "File \u001b[1;32mC:\\Python311\\Lib\\site-packages\\pydantic\\main.py:341\u001b[0m, in \u001b[0;36mpydantic.main.BaseModel.__init__\u001b[1;34m()\u001b[0m\n",
      "\u001b[1;31mValidationError\u001b[0m: 1 validation error for Anthropic\n__root__\n  Did not find anthropic_api_key, please add an environment variable `ANTHROPIC_API_KEY` which contains it, or pass  `anthropic_api_key` as a named parameter. (type=value_error)"
     ]
    }
   ],
   "source": [
    "llm=Anthropic()\n",
    "llm"
   ]
  }
 ],
 "metadata": {
  "kernelspec": {
   "display_name": "Python 3 (ipykernel)",
   "language": "python",
   "name": "python3"
  },
  "language_info": {
   "codemirror_mode": {
    "name": "ipython",
    "version": 3
   },
   "file_extension": ".py",
   "mimetype": "text/x-python",
   "name": "python",
   "nbconvert_exporter": "python",
   "pygments_lexer": "ipython3",
   "version": "3.11.2"
  }
 },
 "nbformat": 4,
 "nbformat_minor": 5
}
