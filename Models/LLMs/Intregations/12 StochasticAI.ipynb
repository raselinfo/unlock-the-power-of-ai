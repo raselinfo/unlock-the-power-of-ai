{
 "cells": [
  {
   "cell_type": "code",
   "execution_count": 3,
   "id": "7965091e-11b1-40af-8e7e-636c34cbcb21",
   "metadata": {
    "tags": []
   },
   "outputs": [],
   "source": [
    "from langchain.llms import StochasticAI\n",
    "from langchain import PromptTemplate, LLMChain"
   ]
  },
  {
   "cell_type": "code",
   "execution_count": 7,
   "id": "3d464c73-4706-40e9-a876-479e94ac7410",
   "metadata": {
    "tags": []
   },
   "outputs": [
    {
     "name": "stdin",
     "output_type": "stream",
     "text": [
      "Enter your key ········\n"
     ]
    }
   ],
   "source": [
    "from getpass import getpass\n",
    "import os\n",
    "API_KEY=getpass(\"Enter your key\")\n",
    "\n",
    "os.environ['STOCHASTICAI_API_KEY']=API_KEY"
   ]
  },
  {
   "cell_type": "code",
   "execution_count": 8,
   "id": "cc09c4fa-39b0-419f-9649-920139f4e546",
   "metadata": {
    "tags": []
   },
   "outputs": [],
   "source": [
    "template = \"\"\"Question: {question}\n",
    "\n",
    "Answer: Let's think step by step.\"\"\"\n",
    "\n",
    "prompt = PromptTemplate(template=template, input_variables=[\"question\"])"
   ]
  },
  {
   "cell_type": "code",
   "execution_count": 9,
   "id": "3f219972-025d-4ee9-b6b4-a8a2ef78b12d",
   "metadata": {
    "tags": []
   },
   "outputs": [],
   "source": [
    "llm = StochasticAI(api_url=\"https://api.stochastic.ai/v1/modelApi/submit/gpt-j\")\n"
   ]
  },
  {
   "cell_type": "code",
   "execution_count": 11,
   "id": "4924d5ce-7c57-4835-833e-ae424f6115ba",
   "metadata": {
    "tags": []
   },
   "outputs": [],
   "source": [
    "llm_chain = LLMChain(prompt=prompt, llm=llm)"
   ]
  },
  {
   "cell_type": "code",
   "execution_count": 13,
   "id": "24e6bbf7-373b-4b31-853b-14eabbad0c8f",
   "metadata": {
    "tags": []
   },
   "outputs": [
    {
     "data": {
      "text/plain": [
       "\"\\n\\nBangladesh is a country in South Asia bordered by India to the north, Bhutan to the west, Myanmar (Burma) to the east and Chittagong Hill Tracts (CHT) to the south. It is the world's eighth most populous country with 160 million people (\""
      ]
     },
     "execution_count": 13,
     "metadata": {},
     "output_type": "execute_result"
    }
   ],
   "source": [
    "question = \"What is Bangladesh?\"\n",
    "\n",
    "llm_chain.run(question)"
   ]
  }
 ],
 "metadata": {
  "kernelspec": {
   "display_name": "Python 3 (ipykernel)",
   "language": "python",
   "name": "python3"
  },
  "language_info": {
   "codemirror_mode": {
    "name": "ipython",
    "version": 3
   },
   "file_extension": ".py",
   "mimetype": "text/x-python",
   "name": "python",
   "nbconvert_exporter": "python",
   "pygments_lexer": "ipython3",
   "version": "3.11.2"
  }
 },
 "nbformat": 4,
 "nbformat_minor": 5
}
