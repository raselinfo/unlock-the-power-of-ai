{
 "cells": [
  {
   "cell_type": "code",
   "execution_count": 2,
   "id": "15d2d7a2-c20b-4312-b73f-7a52085b1576",
   "metadata": {
    "tags": []
   },
   "outputs": [
    {
     "name": "stdout",
     "output_type": "stream",
     "text": [
      "Requirement already satisfied: openai in c:\\python311\\lib\\site-packages (0.27.2)\n",
      "Requirement already satisfied: requests>=2.20 in c:\\python311\\lib\\site-packages (from openai) (2.28.2)\n",
      "Requirement already satisfied: tqdm in c:\\python311\\lib\\site-packages (from openai) (4.64.1)\n",
      "Requirement already satisfied: aiohttp in c:\\python311\\lib\\site-packages (from openai) (3.8.4)\n",
      "Requirement already satisfied: charset-normalizer<4,>=2 in c:\\python311\\lib\\site-packages (from requests>=2.20->openai) (3.0.1)\n",
      "Requirement already satisfied: idna<4,>=2.5 in c:\\python311\\lib\\site-packages (from requests>=2.20->openai) (3.4)\n",
      "Requirement already satisfied: urllib3<1.27,>=1.21.1 in c:\\python311\\lib\\site-packages (from requests>=2.20->openai) (1.26.14)\n",
      "Requirement already satisfied: certifi>=2017.4.17 in c:\\python311\\lib\\site-packages (from requests>=2.20->openai) (2022.12.7)\n",
      "Requirement already satisfied: attrs>=17.3.0 in c:\\python311\\lib\\site-packages (from aiohttp->openai) (22.2.0)\n",
      "Requirement already satisfied: multidict<7.0,>=4.5 in c:\\python311\\lib\\site-packages (from aiohttp->openai) (6.0.4)\n",
      "Requirement already satisfied: async-timeout<5.0,>=4.0.0a3 in c:\\python311\\lib\\site-packages (from aiohttp->openai) (4.0.2)\n",
      "Requirement already satisfied: yarl<2.0,>=1.0 in c:\\python311\\lib\\site-packages (from aiohttp->openai) (1.8.2)\n",
      "Requirement already satisfied: frozenlist>=1.1.1 in c:\\python311\\lib\\site-packages (from aiohttp->openai) (1.3.3)\n",
      "Requirement already satisfied: aiosignal>=1.1.2 in c:\\python311\\lib\\site-packages (from aiohttp->openai) (1.3.1)\n",
      "Requirement already satisfied: colorama in c:\\python311\\lib\\site-packages (from tqdm->openai) (0.4.6)\n"
     ]
    }
   ],
   "source": [
    "!pip install openai"
   ]
  },
  {
   "cell_type": "code",
   "execution_count": 3,
   "id": "3a227266-e9fd-47b0-bfd2-4b2f783005d9",
   "metadata": {
    "tags": []
   },
   "outputs": [],
   "source": [
    "from langchain.llms import GooseAI\n",
    "from langchain import PromptTemplate, LLMChain"
   ]
  },
  {
   "cell_type": "code",
   "execution_count": 6,
   "id": "35b78c02-3767-403a-a838-d2d3e736575f",
   "metadata": {
    "tags": []
   },
   "outputs": [
    {
     "name": "stdin",
     "output_type": "stream",
     "text": [
      "Enter your key ········\n"
     ]
    }
   ],
   "source": [
    "from getpass import getpass\n",
    "import os\n",
    "API_KEY=getpass(\"Enter your key\")\n",
    "\n",
    "os.environ['GOOSEAI_API_KEY']=API_KEY"
   ]
  },
  {
   "cell_type": "code",
   "execution_count": 7,
   "id": "66c36402-fd33-498f-baec-ff28366da046",
   "metadata": {
    "tags": []
   },
   "outputs": [],
   "source": [
    "llm=GooseAI()"
   ]
  },
  {
   "cell_type": "code",
   "execution_count": 8,
   "id": "6a4975ba-e62d-4f6a-9025-b548104bf1e5",
   "metadata": {
    "tags": []
   },
   "outputs": [],
   "source": [
    "template=\"\"\"Question: {question}\n",
    "\n",
    "Answer: Let's think step by step.\n",
    "\"\"\"\n",
    "prompt=PromptTemplate(template=template,input_variables=['question'])"
   ]
  },
  {
   "cell_type": "code",
   "execution_count": 9,
   "id": "79d8ca9b-e085-47bb-b5b4-3712fab94289",
   "metadata": {
    "tags": []
   },
   "outputs": [],
   "source": [
    "llm_chain=LLMChain(prompt=prompt,llm=llm)"
   ]
  },
  {
   "cell_type": "code",
   "execution_count": 10,
   "id": "1cbb10ca-fed2-4adf-b3b6-eb24e3da41d5",
   "metadata": {
    "tags": []
   },
   "outputs": [
    {
     "name": "stdin",
     "output_type": "stream",
     "text": [
      "Enter your Question What is Bangladesh?\n"
     ]
    },
    {
     "data": {
      "text/plain": [
       "\"\\nBangladesh is the southern part of the Indian subcontinent and is shaped like a bow.\\n\\nBangladesh is in South Asia.\\n\\nBangladesh is in the Ganges Delta.\\n\\nBangladesh is in South Eastern Asia.\\n\\nBangladesh is on the Bay of Bengal.\\n\\nBangladesh is in the Ganges Delta.\\n\\nBangladesh has a population of 160 million.\\n\\nBangladesh is now a member of SAARC, the South Asian Association for Regional Cooperation.\\n\\nBangladesh is in South Eastern Asia.\\n\\nBangladesh is almost entirely landlocked.\\n\\nBangladesh is the world's 8th most populous country.\\n\\nBangladesh is the world's 9th most populous country.\\n\\nBangladesh has a population of 160 million.\\n\\nBangladesh is a constitutional state.\\n\\nBangladesh has borders with India, with an area of 361,090 km².\\n\\nBangladesh has borders with Myanmar, with an area of 127,210 km².\\n\\nBangladesh has borders with China, with\""
      ]
     },
     "execution_count": 10,
     "metadata": {},
     "output_type": "execute_result"
    }
   ],
   "source": [
    "question=input(\"Enter your Question\")\n",
    "llm_chain.run(question)"
   ]
  },
  {
   "cell_type": "markdown",
   "id": "4a12a7b5-1bb0-4caa-8730-0b7150661459",
   "metadata": {},
   "source": [
    "### WOW 💖"
   ]
  }
 ],
 "metadata": {
  "kernelspec": {
   "display_name": "Python 3 (ipykernel)",
   "language": "python",
   "name": "python3"
  },
  "language_info": {
   "codemirror_mode": {
    "name": "ipython",
    "version": 3
   },
   "file_extension": ".py",
   "mimetype": "text/x-python",
   "name": "python",
   "nbconvert_exporter": "python",
   "pygments_lexer": "ipython3",
   "version": "3.11.2"
  }
 },
 "nbformat": 4,
 "nbformat_minor": 5
}
