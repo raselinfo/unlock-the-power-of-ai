{
 "cells": [
  {
   "cell_type": "code",
   "execution_count": 2,
   "id": "d83d5503-d93f-4a6d-a7d7-afd2f4223a7c",
   "metadata": {
    "tags": []
   },
   "outputs": [
    {
     "name": "stderr",
     "output_type": "stream",
     "text": [
      "ERROR: Ignored the following versions that require a different python version: 0.1.18 Requires-Python >=3.7.2,<3.11; 0.1.5 Requires-Python >=3.8,<3.11; 0.1.9 Requires-Python >=3.7,<3.11; 0.2.0 Requires-Python >=3.7,<3.11; 0.2.1 Requires-Python >=3.7,<3.11; 0.2.2 Requires-Python >=3.7,<3.11; 0.2.3 Requires-Python >=3.7,<3.11; 0.2.4 Requires-Python >=3.7,<3.11; 0.3.0 Requires-Python >=3.7.2,<3.11; 0.3.1 Requires-Python >=3.7.2,<3.11; 0.3.2 Requires-Python >=3.7.2,<3.11; 0.4.0 Requires-Python >=3.7.2,<3.11; 0.4.1 Requires-Python >=3.7.2,<3.11; 0.4.10 Requires-Python >=3.8,<3.11; 0.4.11 Requires-Python >=3.8,<3.11; 0.4.12 Requires-Python >=3.8,<3.11; 0.4.13 Requires-Python >=3.8,<3.11; 0.4.14 Requires-Python >=3.8,<3.11; 0.4.15 Requires-Python >=3.8,<3.11; 0.4.16 Requires-Python >=3.8,<3.11; 0.4.17 Requires-Python >=3.8,<3.11; 0.4.18 Requires-Python >=3.8,<3.11; 0.4.2 Requires-Python >=3.7.2,<3.11; 0.4.3 Requires-Python >=3.7.2,<3.11; 0.4.4 Requires-Python >=3.8,<3.11; 0.4.5 Requires-Python >=3.8,<3.11; 0.4.6 Requires-Python >=3.8,<3.11; 0.4.7 Requires-Python >=3.8,<3.11; 0.4.8 Requires-Python >=3.8,<3.11; 0.4.9 Requires-Python >=3.8,<3.11\n",
      "ERROR: Could not find a version that satisfies the requirement cerebrium (from versions: none)\n",
      "ERROR: No matching distribution found for cerebrium\n"
     ]
    }
   ],
   "source": [
    "!pip3 install cerebrium"
   ]
  },
  {
   "cell_type": "code",
   "execution_count": 3,
   "id": "b35b1f02-04d4-47f2-a9dd-8974dfea4c08",
   "metadata": {
    "tags": []
   },
   "outputs": [
    {
     "ename": "SyntaxError",
     "evalue": "invalid syntax (2582696022.py, line 1)",
     "output_type": "error",
     "traceback": [
      "\u001b[1;36m  Cell \u001b[1;32mIn[3], line 1\u001b[1;36m\u001b[0m\n\u001b[1;33m    python3.7 --version\u001b[0m\n\u001b[1;37m           ^\u001b[0m\n\u001b[1;31mSyntaxError\u001b[0m\u001b[1;31m:\u001b[0m invalid syntax\n"
     ]
    }
   ],
   "source": [
    "import os\n",
    "from langchain.llms import CerebriumAI\n",
    "from langchain import PromptTemplate, LLMChain"
   ]
  },
  {
   "cell_type": "code",
   "execution_count": null,
   "id": "6fe95fd1-aa63-4edc-9b1c-9fa637818a85",
   "metadata": {},
   "outputs": [],
   "source": [
    "os.environ[\"CEREBRIUMAI_API_KEY\"] = \"YOUR_KEY_HERE\""
   ]
  },
  {
   "cell_type": "code",
   "execution_count": null,
   "id": "567725a6-12a3-4519-a4fe-5bf83b48a89b",
   "metadata": {},
   "outputs": [],
   "source": [
    "llm = CerebriumAI(endpoint_url=\"YOUR ENDPOINT URL HERE\")"
   ]
  },
  {
   "cell_type": "code",
   "execution_count": null,
   "id": "ec62808e-eef8-43ed-93df-7cb0f507c9bf",
   "metadata": {},
   "outputs": [],
   "source": [
    "template = \"\"\"Question: {question}\n",
    "\n",
    "Answer: Let's think step by step.\"\"\"\n",
    "\n",
    "prompt = PromptTemplate(template=template, input_variables=[\"question\"])"
   ]
  },
  {
   "cell_type": "code",
   "execution_count": null,
   "id": "9cd2d864-0f9a-4416-a4dc-23c58d8d4d82",
   "metadata": {},
   "outputs": [],
   "source": [
    "llm_chain = LLMChain(prompt=prompt, llm=llm)"
   ]
  },
  {
   "cell_type": "code",
   "execution_count": null,
   "id": "96eb9b59-c679-4d90-8749-ba8eb436cd07",
   "metadata": {},
   "outputs": [],
   "source": [
    "question = \"What NFL team won the Super Bowl in the year Justin Beiber was born?\"\n",
    "\n",
    "llm_chain.run(question)"
   ]
  }
 ],
 "metadata": {
  "kernelspec": {
   "display_name": "Python 3 (ipykernel)",
   "language": "python",
   "name": "python3"
  },
  "language_info": {
   "codemirror_mode": {
    "name": "ipython",
    "version": 3
   },
   "file_extension": ".py",
   "mimetype": "text/x-python",
   "name": "python",
   "nbconvert_exporter": "python",
   "pygments_lexer": "ipython3",
   "version": "3.11.2"
  }
 },
 "nbformat": 4,
 "nbformat_minor": 5
}
