{
 "cells": [
  {
   "cell_type": "markdown",
   "id": "3d9a65c5-f723-4cc9-a902-d343a1fd9915",
   "metadata": {},
   "source": [
    "### I did not get the Azure OpenAI API Key ,\n",
    "https://www.anthropic.com/product"
   ]
  }
 ],
 "metadata": {
  "kernelspec": {
   "display_name": "Python 3 (ipykernel)",
   "language": "python",
   "name": "python3"
  },
  "language_info": {
   "codemirror_mode": {
    "name": "ipython",
    "version": 3
   },
   "file_extension": ".py",
   "mimetype": "text/x-python",
   "name": "python",
   "nbconvert_exporter": "python",
   "pygments_lexer": "ipython3",
   "version": "3.11.2"
  }
 },
 "nbformat": 4,
 "nbformat_minor": 5
}
