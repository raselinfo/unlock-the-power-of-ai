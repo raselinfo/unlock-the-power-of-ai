{
 "cells": [
  {
   "cell_type": "code",
   "execution_count": 8,
   "id": "56e7fecf-ee98-468f-b420-95e7ce35f8a1",
   "metadata": {
    "tags": []
   },
   "outputs": [
    {
     "name": "stdout",
     "output_type": "stream",
     "text": [
      "Collecting cohere\n",
      "  Downloading cohere-4.1.3-py3-none-any.whl (28 kB)\n",
      "Requirement already satisfied: aiohttp<4.0,>=3.0 in c:\\python311\\lib\\site-packages (from cohere) (3.8.4)\n",
      "Collecting backoff<3.0,>=2.0\n",
      "  Downloading backoff-2.2.1-py3-none-any.whl (15 kB)\n",
      "Requirement already satisfied: requests<3.0,>=2.0 in c:\\python311\\lib\\site-packages (from cohere) (2.28.2)\n",
      "Requirement already satisfied: attrs>=17.3.0 in c:\\python311\\lib\\site-packages (from aiohttp<4.0,>=3.0->cohere) (22.2.0)\n",
      "Requirement already satisfied: charset-normalizer<4.0,>=2.0 in c:\\python311\\lib\\site-packages (from aiohttp<4.0,>=3.0->cohere) (3.0.1)\n",
      "Requirement already satisfied: multidict<7.0,>=4.5 in c:\\python311\\lib\\site-packages (from aiohttp<4.0,>=3.0->cohere) (6.0.4)\n",
      "Requirement already satisfied: async-timeout<5.0,>=4.0.0a3 in c:\\python311\\lib\\site-packages (from aiohttp<4.0,>=3.0->cohere) (4.0.2)\n",
      "Requirement already satisfied: yarl<2.0,>=1.0 in c:\\python311\\lib\\site-packages (from aiohttp<4.0,>=3.0->cohere) (1.8.2)\n",
      "Requirement already satisfied: frozenlist>=1.1.1 in c:\\python311\\lib\\site-packages (from aiohttp<4.0,>=3.0->cohere) (1.3.3)\n",
      "Requirement already satisfied: aiosignal>=1.1.2 in c:\\python311\\lib\\site-packages (from aiohttp<4.0,>=3.0->cohere) (1.3.1)\n",
      "Requirement already satisfied: idna<4,>=2.5 in c:\\python311\\lib\\site-packages (from requests<3.0,>=2.0->cohere) (3.4)\n",
      "Requirement already satisfied: urllib3<1.27,>=1.21.1 in c:\\python311\\lib\\site-packages (from requests<3.0,>=2.0->cohere) (1.26.14)\n",
      "Requirement already satisfied: certifi>=2017.4.17 in c:\\python311\\lib\\site-packages (from requests<3.0,>=2.0->cohere) (2022.12.7)\n",
      "Installing collected packages: backoff, cohere\n",
      "Successfully installed backoff-2.2.1 cohere-4.1.3\n"
     ]
    }
   ],
   "source": [
    "!pip install cohere"
   ]
  },
  {
   "cell_type": "code",
   "execution_count": 2,
   "id": "d16a5bdd-3d7a-4da9-b6ea-facf330c9865",
   "metadata": {
    "tags": []
   },
   "outputs": [],
   "source": [
    "from langchain.llms import Cohere\n",
    "from langchain import PromptTemplate, LLMChain"
   ]
  },
  {
   "cell_type": "code",
   "execution_count": 8,
   "id": "313def26-dd04-4dbf-87a0-a672570035ae",
   "metadata": {
    "tags": []
   },
   "outputs": [],
   "source": [
    "template = \"\"\"\n",
    "Question: {question}\n",
    "\n",
    "Answer: Let's think step by step.\n",
    "\"\"\"\n",
    "\n",
    "prompt = PromptTemplate(template=template, input_variables=[\"question\"])"
   ]
  },
  {
   "cell_type": "code",
   "execution_count": 4,
   "id": "b976097a-1bf9-4862-8801-461b23aff1f6",
   "metadata": {
    "tags": []
   },
   "outputs": [
    {
     "name": "stdin",
     "output_type": "stream",
     "text": [
      "Enter your key ········\n"
     ]
    }
   ],
   "source": [
    "from getpass import getpass\n",
    "import os\n",
    "API_KEY=getpass(\"Enter your key\")\n",
    "\n",
    "os.environ['COHERE_API_KEY']=API_KEY"
   ]
  },
  {
   "cell_type": "code",
   "execution_count": 9,
   "id": "e4634ec4-25ed-4ffc-b516-0a0ca0809241",
   "metadata": {
    "tags": []
   },
   "outputs": [],
   "source": [
    "llm = Cohere()"
   ]
  },
  {
   "cell_type": "code",
   "execution_count": 10,
   "id": "fffd80f2-d197-4e19-a8c9-ebaeb77bd4fa",
   "metadata": {
    "tags": []
   },
   "outputs": [],
   "source": [
    "llm_chain = LLMChain(prompt=prompt, llm=llm)"
   ]
  },
  {
   "cell_type": "code",
   "execution_count": 11,
   "id": "3ed9a550-51f9-49e8-9c7d-56983b3fa894",
   "metadata": {
    "tags": []
   },
   "outputs": [
    {
     "name": "stdin",
     "output_type": "stream",
     "text": [
      "Enter your question What is Bangladesh\n"
     ]
    },
    {
     "data": {
      "text/plain": [
       "'\\n> As you probably know, Bengal is the region of India that is today called West Bengal. It includes Bangladesh, or East Pakistan as it was then known. Pakistan was created in 1947, when India was partitioned into two countries because of the mass migration of Muslims to Pakistan and Hindus and Sikhs to India (for more on partition, see Chapter 9). Bengal was given to Pakistan. Its capital, Dhaka, became the capital of East Pakistan.\\n> \\n> In the 1950s, when Pakistan\\'s Prime Minister Ali Khan became ill, General Ayub Khan staged a coup against him and declared himself the country\\'s new ruler. He established a military dictatorship and began to push for a \"Greater Pakistan\" that would include present-day Pakistan, Afghanistan, and Bangladesh.\\n> \\n> The result was war with India in 1965 and again in 1971, which resulted in the creation of Bangladesh, or East Pakistan, as it called itself. The war was an ugly one, resulting in the persecution of Hindus and others who were seen as enemies of Islam in Pakistan. Millions of people fled to India, where they were given temporary shelter in refugee camps.\\n\\n#### The Taliban and the Mujahadeen\\n\\nIn'"
      ]
     },
     "execution_count": 11,
     "metadata": {},
     "output_type": "execute_result"
    }
   ],
   "source": [
    "question = input(\"Enter your question\")\n",
    "\n",
    "llm_chain.run(question)\n"
   ]
  }
 ],
 "metadata": {
  "kernelspec": {
   "display_name": "Python 3 (ipykernel)",
   "language": "python",
   "name": "python3"
  },
  "language_info": {
   "codemirror_mode": {
    "name": "ipython",
    "version": 3
   },
   "file_extension": ".py",
   "mimetype": "text/x-python",
   "name": "python",
   "nbconvert_exporter": "python",
   "pygments_lexer": "ipython3",
   "version": "3.11.2"
  }
 },
 "nbformat": 4,
 "nbformat_minor": 5
}
