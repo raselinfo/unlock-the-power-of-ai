{
 "cells": [
  {
   "cell_type": "markdown",
   "id": "3a4caac3-fe62-4847-b6c0-53ea55f35f62",
   "metadata": {},
   "source": [
    "See the example of this repo.\n",
    "https://github.com/HazyResearch/manifest\n",
    "https://python.langchain.com/en/latest/modules/models/llms/integrations/manifest.html"
   ]
  },
  {
   "cell_type": "code",
   "execution_count": 59,
   "id": "355c0913-57bb-4ee0-b70d-775729865bb0",
   "metadata": {
    "tags": []
   },
   "outputs": [
    {
     "name": "stdout",
     "output_type": "stream",
     "text": [
      "Requirement already satisfied: manifest-ml in c:\\python311\\lib\\site-packages (0.1.1)\n",
      "Requirement already satisfied: numpy>=1.20.0 in c:\\python311\\lib\\site-packages (from manifest-ml) (1.24.2)\n",
      "Requirement already satisfied: pydantic>=1.9.0 in c:\\python311\\lib\\site-packages (from manifest-ml) (1.10.7)\n",
      "Requirement already satisfied: redis>=4.3.1 in c:\\python311\\lib\\site-packages (from manifest-ml) (4.5.4)\n",
      "Requirement already satisfied: requests>=2.27.1 in c:\\python311\\lib\\site-packages (from manifest-ml) (2.28.2)\n",
      "Requirement already satisfied: sqlitedict>=2.0.0 in c:\\python311\\lib\\site-packages (from manifest-ml) (2.1.0)\n",
      "Requirement already satisfied: xxhash>=3.0.0 in c:\\python311\\lib\\site-packages (from manifest-ml) (3.2.0)\n",
      "Requirement already satisfied: typing-extensions>=4.2.0 in c:\\python311\\lib\\site-packages (from pydantic>=1.9.0->manifest-ml) (4.5.0)\n",
      "Requirement already satisfied: async-timeout>=4.0.2 in c:\\python311\\lib\\site-packages (from redis>=4.3.1->manifest-ml) (4.0.2)\n",
      "Requirement already satisfied: charset-normalizer<4,>=2 in c:\\python311\\lib\\site-packages (from requests>=2.27.1->manifest-ml) (3.0.1)\n",
      "Requirement already satisfied: idna<4,>=2.5 in c:\\python311\\lib\\site-packages (from requests>=2.27.1->manifest-ml) (3.4)\n",
      "Requirement already satisfied: urllib3<1.27,>=1.21.1 in c:\\python311\\lib\\site-packages (from requests>=2.27.1->manifest-ml) (1.26.14)\n",
      "Requirement already satisfied: certifi>=2017.4.17 in c:\\python311\\lib\\site-packages (from requests>=2.27.1->manifest-ml) (2022.12.7)\n",
      "Requirement already satisfied: transformers in c:\\python311\\lib\\site-packages (4.27.4)\n",
      "Requirement already satisfied: filelock in c:\\python311\\lib\\site-packages (from transformers) (3.10.7)\n",
      "Requirement already satisfied: huggingface-hub<1.0,>=0.11.0 in c:\\python311\\lib\\site-packages (from transformers) (0.13.3)\n",
      "Requirement already satisfied: numpy>=1.17 in c:\\python311\\lib\\site-packages (from transformers) (1.24.2)\n",
      "Requirement already satisfied: packaging>=20.0 in c:\\python311\\lib\\site-packages (from transformers) (23.0)\n",
      "Requirement already satisfied: pyyaml>=5.1 in c:\\python311\\lib\\site-packages (from transformers) (6.0)\n",
      "Requirement already satisfied: regex!=2019.12.17 in c:\\python311\\lib\\site-packages (from transformers) (2023.3.23)\n",
      "Requirement already satisfied: requests in c:\\python311\\lib\\site-packages (from transformers) (2.28.2)\n",
      "Requirement already satisfied: tokenizers!=0.11.3,<0.14,>=0.11.1 in c:\\python311\\lib\\site-packages (from transformers) (0.13.2)\n",
      "Requirement already satisfied: tqdm>=4.27 in c:\\python311\\lib\\site-packages (from transformers) (4.64.1)\n",
      "Requirement already satisfied: typing-extensions>=3.7.4.3 in c:\\python311\\lib\\site-packages (from huggingface-hub<1.0,>=0.11.0->transformers) (4.5.0)\n",
      "Requirement already satisfied: colorama in c:\\python311\\lib\\site-packages (from tqdm>=4.27->transformers) (0.4.6)\n",
      "Requirement already satisfied: charset-normalizer<4,>=2 in c:\\python311\\lib\\site-packages (from requests->transformers) (3.0.1)\n",
      "Requirement already satisfied: idna<4,>=2.5 in c:\\python311\\lib\\site-packages (from requests->transformers) (3.4)\n",
      "Requirement already satisfied: urllib3<1.27,>=1.21.1 in c:\\python311\\lib\\site-packages (from requests->transformers) (1.26.14)\n",
      "Requirement already satisfied: certifi>=2017.4.17 in c:\\python311\\lib\\site-packages (from requests->transformers) (2022.12.7)\n"
     ]
    },
    {
     "name": "stderr",
     "output_type": "stream",
     "text": [
      "ERROR: Could not find a version that satisfies the requirement PIL (from versions: none)\n",
      "ERROR: No matching distribution found for PIL\n"
     ]
    }
   ],
   "source": [
    "!pip install manifest-ml\n",
    "!pip install transformers\n",
    "!pip install PIL "
   ]
  },
  {
   "cell_type": "code",
   "execution_count": 40,
   "id": "e822566b-7b99-4d99-802b-0f0e8a76aef6",
   "metadata": {
    "tags": []
   },
   "outputs": [],
   "source": [
    "from manifest import Manifest\n",
    "from langchain.llms.manifest import ManifestWrapper\n",
    "import requests"
   ]
  },
  {
   "cell_type": "code",
   "execution_count": 33,
   "id": "c7e8a21d-3469-4a74-a8e8-b5133869a503",
   "metadata": {
    "tags": []
   },
   "outputs": [
    {
     "name": "stdin",
     "output_type": "stream",
     "text": [
      "Enter your key ········\n"
     ]
    }
   ],
   "source": [
    "from getpass import getpass\n",
    "import os\n",
    "API_KEY=getpass(\"Enter your key\")\n",
    "\n",
    "os.environ['OPENAI_API_KEY']=API_KEY"
   ]
  },
  {
   "cell_type": "code",
   "execution_count": 60,
   "id": "d5848c3c-d61e-4914-9e02-bc671c1bb168",
   "metadata": {
    "tags": []
   },
   "outputs": [
    {
     "name": "stdout",
     "output_type": "stream",
     "text": [
      "Ingredients: tomato, cucumber, onion, and bell pepper\n"
     ]
    },
    {
     "ename": "AttributeError",
     "evalue": "'str' object has no attribute '__array_interface__'",
     "output_type": "error",
     "traceback": [
      "\u001b[1;31m---------------------------------------------------------------------------\u001b[0m",
      "\u001b[1;31mAttributeError\u001b[0m                            Traceback (most recent call last)",
      "Cell \u001b[1;32mIn[60], line 9\u001b[0m\n\u001b[0;32m      6\u001b[0m \u001b[38;5;28;01mfrom\u001b[39;00m \u001b[38;5;21;01mPIL\u001b[39;00m \u001b[38;5;28;01mimport\u001b[39;00m Image\n\u001b[0;32m      8\u001b[0m res \u001b[38;5;241m=\u001b[39m manifest\u001b[38;5;241m.\u001b[39mrun(\u001b[38;5;124mf\u001b[39m\u001b[38;5;124m\"\u001b[39m\u001b[38;5;124mSandwich with \u001b[39m\u001b[38;5;132;01m{\u001b[39;00mingredients\u001b[38;5;132;01m}\u001b[39;00m\u001b[38;5;124m\"\u001b[39m, client_timeout\u001b[38;5;241m=\u001b[39m\u001b[38;5;241m300\u001b[39m)\n\u001b[1;32m----> 9\u001b[0m im \u001b[38;5;241m=\u001b[39m \u001b[43mImage\u001b[49m\u001b[38;5;241;43m.\u001b[39;49m\u001b[43mfromarray\u001b[49m\u001b[43m(\u001b[49m\u001b[43mres\u001b[49m\u001b[43m)\u001b[49m\n\u001b[0;32m     10\u001b[0m display(im)\n",
      "File \u001b[1;32mC:\\Python311\\Lib\\site-packages\\PIL\\Image.py:3069\u001b[0m, in \u001b[0;36mfromarray\u001b[1;34m(obj, mode)\u001b[0m\n\u001b[0;32m   3030\u001b[0m \u001b[38;5;28;01mdef\u001b[39;00m \u001b[38;5;21mfromarray\u001b[39m(obj, mode\u001b[38;5;241m=\u001b[39m\u001b[38;5;28;01mNone\u001b[39;00m):\n\u001b[0;32m   3031\u001b[0m \u001b[38;5;250m    \u001b[39m\u001b[38;5;124;03m\"\"\"\u001b[39;00m\n\u001b[0;32m   3032\u001b[0m \u001b[38;5;124;03m    Creates an image memory from an object exporting the array interface\u001b[39;00m\n\u001b[0;32m   3033\u001b[0m \u001b[38;5;124;03m    (using the buffer protocol).\u001b[39;00m\n\u001b[1;32m   (...)\u001b[0m\n\u001b[0;32m   3067\u001b[0m \u001b[38;5;124;03m    .. versionadded:: 1.1.6\u001b[39;00m\n\u001b[0;32m   3068\u001b[0m \u001b[38;5;124;03m    \"\"\"\u001b[39;00m\n\u001b[1;32m-> 3069\u001b[0m     arr \u001b[38;5;241m=\u001b[39m \u001b[43mobj\u001b[49m\u001b[38;5;241;43m.\u001b[39;49m\u001b[43m__array_interface__\u001b[49m\n\u001b[0;32m   3070\u001b[0m     shape \u001b[38;5;241m=\u001b[39m arr[\u001b[38;5;124m\"\u001b[39m\u001b[38;5;124mshape\u001b[39m\u001b[38;5;124m\"\u001b[39m]\n\u001b[0;32m   3071\u001b[0m     ndim \u001b[38;5;241m=\u001b[39m \u001b[38;5;28mlen\u001b[39m(shape)\n",
      "\u001b[1;31mAttributeError\u001b[0m: 'str' object has no attribute '__array_interface__'"
     ]
    }
   ],
   "source": [
    "manifest = Manifest(\n",
    "    client_name = \"openai\",\n",
    ")\n",
    "ingredients=manifest.run(\"What are best vegetables for a sandwhich? The ingrediates are lettuce,\")\n",
    "print(f\"Ingredients: {ingredients}\")\n",
    "from PIL import Image\n",
    "\n",
    "res = manifest.run(f\"Sandwich with {ingredients}\", client_timeout=300)\n",
    "im = Image.fromarray(res)\n",
    "display(im)"
   ]
  },
  {
   "cell_type": "code",
   "execution_count": 42,
   "id": "afc262da-5ecb-46cb-8835-8bd317478325",
   "metadata": {
    "tags": []
   },
   "outputs": [],
   "source": [
    "llm = ManifestWrapper(client=manifest, llm_kwargs={\"temperature\": 0.001, \"max_tokens\": 256})"
   ]
  },
  {
   "cell_type": "code",
   "execution_count": 43,
   "id": "d6a43283-2f6b-4bdd-aa32-e219aa1526ba",
   "metadata": {
    "tags": []
   },
   "outputs": [],
   "source": [
    "# Map reduce example\n",
    "from langchain import PromptTemplate\n",
    "from langchain.text_splitter import CharacterTextSplitter\n",
    "from langchain.chains.mapreduce import MapReduceChain\n",
    "\n",
    "\n",
    "_prompt = \"\"\"Write a concise summary of the following:\n",
    "\n",
    "\n",
    "{text}\n",
    "\n",
    "\n",
    "CONCISE SUMMARY:\"\"\"\n",
    "prompt = PromptTemplate(template=_prompt, input_variables=[\"text\"])\n",
    "\n",
    "text_splitter = CharacterTextSplitter()\n",
    "\n",
    "mp_chain = MapReduceChain.from_params(llm, prompt, text_splitter)"
   ]
  },
  {
   "cell_type": "code",
   "execution_count": 46,
   "id": "3200c170-53d9-4f0a-b24c-d01943c749b6",
   "metadata": {
    "tags": []
   },
   "outputs": [
    {
     "data": {
      "text/plain": [
       "'In Dhaka City, women are often treated as second-class citizens on public transport, with men demanding they not be allowed on the bus and reserved seats being too hot and cramped. To help women feel safe and respected, women-only buses have been introduced, but the number is not enough. The government should subsidise the operation of these buses and women should take up space and stand tall against the patriarchal system.'"
      ]
     },
     "execution_count": 46,
     "metadata": {},
     "output_type": "execute_result"
    }
   ],
   "source": [
    "with open('./en_news.txt') as f:\n",
    "    news = f.read()\n",
    "mp_chain.run(news)"
   ]
  }
 ],
 "metadata": {
  "kernelspec": {
   "display_name": "Python 3 (ipykernel)",
   "language": "python",
   "name": "python3"
  },
  "language_info": {
   "codemirror_mode": {
    "name": "ipython",
    "version": 3
   },
   "file_extension": ".py",
   "mimetype": "text/x-python",
   "name": "python",
   "nbconvert_exporter": "python",
   "pygments_lexer": "ipython3",
   "version": "3.11.2"
  }
 },
 "nbformat": 4,
 "nbformat_minor": 5
}
